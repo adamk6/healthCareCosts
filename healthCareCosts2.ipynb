{
  "nbformat": 4,
  "nbformat_minor": 0,
  "metadata": {
    "colab": {
      "name": "healthCareCosts2.ipynb",
      "provenance": [],
      "mount_file_id": "1t_2TvKVNHJ7FX6A5xGMH3Co8_Xks4p2K",
      "authorship_tag": "ABX9TyPbds9R7p/qZTkV9OvEON+v",
      "include_colab_link": true
    },
    "kernelspec": {
      "name": "python3",
      "display_name": "Python 3"
    },
    "language_info": {
      "name": "python"
    }
  },
  "cells": [
    {
      "cell_type": "markdown",
      "metadata": {
        "id": "view-in-github",
        "colab_type": "text"
      },
      "source": [
        "<a href=\"https://colab.research.google.com/github/adamk6/healthCareCosts/blob/main/healthCareCosts2.ipynb\" target=\"_parent\"><img src=\"https://colab.research.google.com/assets/colab-badge.svg\" alt=\"Open In Colab\"/></a>"
      ]
    },
    {
      "cell_type": "code",
      "metadata": {
        "colab": {
          "base_uri": "https://localhost:8080/",
          "height": 221
        },
        "id": "nr3G_FMGKQtU",
        "outputId": "8a875b77-90e3-4f1c-ee4c-c35f025bca5f"
      },
      "source": [
        "\n",
        "from google.colab import drive\n",
        "drive.mount('/content/drive')\n",
        "import pandas as pd\n",
        "import matplotlib.pyplot as plt\n",
        "import numpy as np\n",
        "import seaborn as sns\n",
        "filename ='/content/drive/MyDrive/PTDataScience/assignments/healthCareCost.csv'\n",
        "df = pd.read_csv(filename)\n",
        "df.head()"
      ],
      "execution_count": 3,
      "outputs": [
        {
          "output_type": "stream",
          "text": [
            "Mounted at /content/drive\n"
          ],
          "name": "stdout"
        },
        {
          "output_type": "execute_result",
          "data": {
            "text/html": [
              "<div>\n",
              "<style scoped>\n",
              "    .dataframe tbody tr th:only-of-type {\n",
              "        vertical-align: middle;\n",
              "    }\n",
              "\n",
              "    .dataframe tbody tr th {\n",
              "        vertical-align: top;\n",
              "    }\n",
              "\n",
              "    .dataframe thead th {\n",
              "        text-align: right;\n",
              "    }\n",
              "</style>\n",
              "<table border=\"1\" class=\"dataframe\">\n",
              "  <thead>\n",
              "    <tr style=\"text-align: right;\">\n",
              "      <th></th>\n",
              "      <th>LOCATION</th>\n",
              "      <th>INDICATOR</th>\n",
              "      <th>SUBJECT</th>\n",
              "      <th>MEASURE</th>\n",
              "      <th>FREQUENCY</th>\n",
              "      <th>TIME</th>\n",
              "      <th>Value</th>\n",
              "      <th>Flag Codes</th>\n",
              "    </tr>\n",
              "  </thead>\n",
              "  <tbody>\n",
              "    <tr>\n",
              "      <th>0</th>\n",
              "      <td>AUS</td>\n",
              "      <td>HEALTHEXP</td>\n",
              "      <td>TOT</td>\n",
              "      <td>USD_CAP</td>\n",
              "      <td>A</td>\n",
              "      <td>2016</td>\n",
              "      <td>4605.950</td>\n",
              "      <td>NaN</td>\n",
              "    </tr>\n",
              "    <tr>\n",
              "      <th>1</th>\n",
              "      <td>AUS</td>\n",
              "      <td>HEALTHEXP</td>\n",
              "      <td>TOT</td>\n",
              "      <td>USD_CAP</td>\n",
              "      <td>A</td>\n",
              "      <td>2017</td>\n",
              "      <td>4710.617</td>\n",
              "      <td>D</td>\n",
              "    </tr>\n",
              "    <tr>\n",
              "      <th>2</th>\n",
              "      <td>AUS</td>\n",
              "      <td>HEALTHEXP</td>\n",
              "      <td>TOT</td>\n",
              "      <td>USD_CAP</td>\n",
              "      <td>A</td>\n",
              "      <td>2018</td>\n",
              "      <td>4964.533</td>\n",
              "      <td>E</td>\n",
              "    </tr>\n",
              "    <tr>\n",
              "      <th>3</th>\n",
              "      <td>AUS</td>\n",
              "      <td>HEALTHEXP</td>\n",
              "      <td>TOT</td>\n",
              "      <td>USD_CAP</td>\n",
              "      <td>A</td>\n",
              "      <td>2019</td>\n",
              "      <td>5187.419</td>\n",
              "      <td>E</td>\n",
              "    </tr>\n",
              "    <tr>\n",
              "      <th>4</th>\n",
              "      <td>AUT</td>\n",
              "      <td>HEALTHEXP</td>\n",
              "      <td>TOT</td>\n",
              "      <td>USD_CAP</td>\n",
              "      <td>A</td>\n",
              "      <td>2016</td>\n",
              "      <td>5195.360</td>\n",
              "      <td>NaN</td>\n",
              "    </tr>\n",
              "  </tbody>\n",
              "</table>\n",
              "</div>"
            ],
            "text/plain": [
              "  LOCATION  INDICATOR SUBJECT  MEASURE FREQUENCY  TIME     Value Flag Codes\n",
              "0      AUS  HEALTHEXP     TOT  USD_CAP         A  2016  4605.950        NaN\n",
              "1      AUS  HEALTHEXP     TOT  USD_CAP         A  2017  4710.617          D\n",
              "2      AUS  HEALTHEXP     TOT  USD_CAP         A  2018  4964.533          E\n",
              "3      AUS  HEALTHEXP     TOT  USD_CAP         A  2019  5187.419          E\n",
              "4      AUT  HEALTHEXP     TOT  USD_CAP         A  2016  5195.360        NaN"
            ]
          },
          "metadata": {
            "tags": []
          },
          "execution_count": 3
        }
      ]
    },
    {
      "cell_type": "markdown",
      "metadata": {
        "id": "IzEO6NEpSroU"
      },
      "source": [
        "# Begin to get an idea about the data set"
      ]
    },
    {
      "cell_type": "code",
      "metadata": {
        "colab": {
          "base_uri": "https://localhost:8080/"
        },
        "id": "xGgNx7NVK0K-",
        "outputId": "4710f1ec-7b32-4f17-d6f1-8c3f115e5674"
      },
      "source": [
        "df.info()"
      ],
      "execution_count": 4,
      "outputs": [
        {
          "output_type": "stream",
          "text": [
            "<class 'pandas.core.frame.DataFrame'>\n",
            "RangeIndex: 534 entries, 0 to 533\n",
            "Data columns (total 8 columns):\n",
            " #   Column      Non-Null Count  Dtype  \n",
            "---  ------      --------------  -----  \n",
            " 0   LOCATION    534 non-null    object \n",
            " 1   INDICATOR   534 non-null    object \n",
            " 2   SUBJECT     534 non-null    object \n",
            " 3   MEASURE     534 non-null    object \n",
            " 4   FREQUENCY   534 non-null    object \n",
            " 5   TIME        534 non-null    int64  \n",
            " 6   Value       534 non-null    float64\n",
            " 7   Flag Codes  157 non-null    object \n",
            "dtypes: float64(1), int64(1), object(6)\n",
            "memory usage: 33.5+ KB\n"
          ],
          "name": "stdout"
        }
      ]
    },
    {
      "cell_type": "markdown",
      "metadata": {
        "id": "qxj2O-0ZS0mF"
      },
      "source": [
        "## Checking to make sure that the data in columns does not need cleaning"
      ]
    },
    {
      "cell_type": "code",
      "metadata": {
        "colab": {
          "base_uri": "https://localhost:8080/"
        },
        "id": "RFG3jNsyLU_r",
        "outputId": "5655769f-e4af-4e05-cfc2-9f0e00c2fefb"
      },
      "source": [
        "df['MEASURE'].value_counts()"
      ],
      "execution_count": 5,
      "outputs": [
        {
          "output_type": "execute_result",
          "data": {
            "text/plain": [
              "USD_CAP    534\n",
              "Name: MEASURE, dtype: int64"
            ]
          },
          "metadata": {
            "tags": []
          },
          "execution_count": 5
        }
      ]
    },
    {
      "cell_type": "code",
      "metadata": {
        "colab": {
          "base_uri": "https://localhost:8080/"
        },
        "id": "OHhPUpfUN1CZ",
        "outputId": "098193ea-e03b-4acb-caae-505b51c5eabb"
      },
      "source": [
        "df['INDICATOR'].value_counts()"
      ],
      "execution_count": 6,
      "outputs": [
        {
          "output_type": "execute_result",
          "data": {
            "text/plain": [
              "HEALTHEXP    534\n",
              "Name: INDICATOR, dtype: int64"
            ]
          },
          "metadata": {
            "tags": []
          },
          "execution_count": 6
        }
      ]
    },
    {
      "cell_type": "code",
      "metadata": {
        "colab": {
          "base_uri": "https://localhost:8080/"
        },
        "id": "x_KwifcEN433",
        "outputId": "53dc67f2-e84a-4fdd-dd1f-5078e530fcb5"
      },
      "source": [
        "df['FREQUENCY'].value_counts()"
      ],
      "execution_count": 7,
      "outputs": [
        {
          "output_type": "execute_result",
          "data": {
            "text/plain": [
              "A    534\n",
              "Name: FREQUENCY, dtype: int64"
            ]
          },
          "metadata": {
            "tags": []
          },
          "execution_count": 7
        }
      ]
    },
    {
      "cell_type": "code",
      "metadata": {
        "colab": {
          "base_uri": "https://localhost:8080/"
        },
        "id": "rIuPTnHIOD3a",
        "outputId": "03043be0-a6a2-4420-9e8d-7c7a61fba6db"
      },
      "source": [
        "df['TIME'].value_counts()"
      ],
      "execution_count": 8,
      "outputs": [
        {
          "output_type": "execute_result",
          "data": {
            "text/plain": [
              "2017    138\n",
              "2016    136\n",
              "2018    133\n",
              "2019    127\n",
              "Name: TIME, dtype: int64"
            ]
          },
          "metadata": {
            "tags": []
          },
          "execution_count": 8
        }
      ]
    },
    {
      "cell_type": "markdown",
      "metadata": {
        "id": "UFW73WJHTRdf"
      },
      "source": [
        "# Dropping unnecessary columns"
      ]
    },
    {
      "cell_type": "code",
      "metadata": {
        "colab": {
          "base_uri": "https://localhost:8080/"
        },
        "id": "QxKgSLxkOQH9",
        "outputId": "6255ec82-6ee7-410f-e398-11ab6ce5a89f"
      },
      "source": [
        "df.drop(columns= 'Flag Codes', inplace = True)\n",
        "df.drop(columns = 'INDICATOR', inplace = True)\n",
        "df.drop(columns = 'MEASURE', inplace = True)\n",
        "df.drop(columns = 'FREQUENCY', inplace = True)\n",
        "df.info()"
      ],
      "execution_count": 9,
      "outputs": [
        {
          "output_type": "stream",
          "text": [
            "<class 'pandas.core.frame.DataFrame'>\n",
            "RangeIndex: 534 entries, 0 to 533\n",
            "Data columns (total 4 columns):\n",
            " #   Column    Non-Null Count  Dtype  \n",
            "---  ------    --------------  -----  \n",
            " 0   LOCATION  534 non-null    object \n",
            " 1   SUBJECT   534 non-null    object \n",
            " 2   TIME      534 non-null    int64  \n",
            " 3   Value     534 non-null    float64\n",
            "dtypes: float64(1), int64(1), object(2)\n",
            "memory usage: 16.8+ KB\n"
          ],
          "name": "stdout"
        }
      ]
    },
    {
      "cell_type": "markdown",
      "metadata": {
        "id": "D545V7pwTVFo"
      },
      "source": [
        "## Rename column to make it a clearer "
      ]
    },
    {
      "cell_type": "code",
      "metadata": {
        "colab": {
          "base_uri": "https://localhost:8080/"
        },
        "id": "1FOjL7LzRM_8",
        "outputId": "99efdebf-c353-47e0-9a02-5c18feae4aa2"
      },
      "source": [
        "df.rename(columns={'TIME': 'YEAR'}, inplace= True)\n",
        "df.info()"
      ],
      "execution_count": 10,
      "outputs": [
        {
          "output_type": "stream",
          "text": [
            "<class 'pandas.core.frame.DataFrame'>\n",
            "RangeIndex: 534 entries, 0 to 533\n",
            "Data columns (total 4 columns):\n",
            " #   Column    Non-Null Count  Dtype  \n",
            "---  ------    --------------  -----  \n",
            " 0   LOCATION  534 non-null    object \n",
            " 1   SUBJECT   534 non-null    object \n",
            " 2   YEAR      534 non-null    int64  \n",
            " 3   Value     534 non-null    float64\n",
            "dtypes: float64(1), int64(1), object(2)\n",
            "memory usage: 16.8+ KB\n"
          ],
          "name": "stdout"
        }
      ]
    },
    {
      "cell_type": "code",
      "metadata": {
        "colab": {
          "base_uri": "https://localhost:8080/"
        },
        "id": "oaHVyk-N03o7",
        "outputId": "5d049a19-084e-4793-b13e-1754dbd1dca4"
      },
      "source": [
        "df.YEAR = df.YEAR.astype(str) \n",
        "df.info()"
      ],
      "execution_count": 29,
      "outputs": [
        {
          "output_type": "stream",
          "text": [
            "<class 'pandas.core.frame.DataFrame'>\n",
            "RangeIndex: 534 entries, 0 to 533\n",
            "Data columns (total 4 columns):\n",
            " #   Column    Non-Null Count  Dtype  \n",
            "---  ------    --------------  -----  \n",
            " 0   LOCATION  534 non-null    object \n",
            " 1   SUBJECT   534 non-null    object \n",
            " 2   YEAR      534 non-null    object \n",
            " 3   Value     534 non-null    float64\n",
            "dtypes: float64(1), object(3)\n",
            "memory usage: 16.8+ KB\n"
          ],
          "name": "stdout"
        }
      ]
    },
    {
      "cell_type": "code",
      "metadata": {
        "id": "857n5Mp01DKa"
      },
      "source": [
        ""
      ],
      "execution_count": 11,
      "outputs": []
    },
    {
      "cell_type": "markdown",
      "metadata": {
        "id": "bc_eUZrNTcQL"
      },
      "source": [
        "## Creating filters to be used in data visualizations"
      ]
    },
    {
      "cell_type": "code",
      "metadata": {
        "colab": {
          "base_uri": "https://localhost:8080/",
          "height": 204
        },
        "id": "fVFzrcoMTcwh",
        "outputId": "ccb6d5c7-f52e-4b8e-88d5-1de30752b17b"
      },
      "source": [
        "year2016 =df['YEAR'] == '2016'\n",
        "df.loc[year2016, :].head()"
      ],
      "execution_count": 30,
      "outputs": [
        {
          "output_type": "execute_result",
          "data": {
            "text/html": [
              "<div>\n",
              "<style scoped>\n",
              "    .dataframe tbody tr th:only-of-type {\n",
              "        vertical-align: middle;\n",
              "    }\n",
              "\n",
              "    .dataframe tbody tr th {\n",
              "        vertical-align: top;\n",
              "    }\n",
              "\n",
              "    .dataframe thead th {\n",
              "        text-align: right;\n",
              "    }\n",
              "</style>\n",
              "<table border=\"1\" class=\"dataframe\">\n",
              "  <thead>\n",
              "    <tr style=\"text-align: right;\">\n",
              "      <th></th>\n",
              "      <th>LOCATION</th>\n",
              "      <th>SUBJECT</th>\n",
              "      <th>YEAR</th>\n",
              "      <th>Value</th>\n",
              "    </tr>\n",
              "  </thead>\n",
              "  <tbody>\n",
              "    <tr>\n",
              "      <th>0</th>\n",
              "      <td>AUS</td>\n",
              "      <td>TOT</td>\n",
              "      <td>2016</td>\n",
              "      <td>4605.950</td>\n",
              "    </tr>\n",
              "    <tr>\n",
              "      <th>4</th>\n",
              "      <td>AUT</td>\n",
              "      <td>TOT</td>\n",
              "      <td>2016</td>\n",
              "      <td>5195.360</td>\n",
              "    </tr>\n",
              "    <tr>\n",
              "      <th>8</th>\n",
              "      <td>BEL</td>\n",
              "      <td>TOT</td>\n",
              "      <td>2016</td>\n",
              "      <td>4777.091</td>\n",
              "    </tr>\n",
              "    <tr>\n",
              "      <th>12</th>\n",
              "      <td>CAN</td>\n",
              "      <td>TOT</td>\n",
              "      <td>2016</td>\n",
              "      <td>5020.598</td>\n",
              "    </tr>\n",
              "    <tr>\n",
              "      <th>16</th>\n",
              "      <td>CZE</td>\n",
              "      <td>TOT</td>\n",
              "      <td>2016</td>\n",
              "      <td>2670.883</td>\n",
              "    </tr>\n",
              "  </tbody>\n",
              "</table>\n",
              "</div>"
            ],
            "text/plain": [
              "   LOCATION SUBJECT  YEAR     Value\n",
              "0       AUS     TOT  2016  4605.950\n",
              "4       AUT     TOT  2016  5195.360\n",
              "8       BEL     TOT  2016  4777.091\n",
              "12      CAN     TOT  2016  5020.598\n",
              "16      CZE     TOT  2016  2670.883"
            ]
          },
          "metadata": {
            "tags": []
          },
          "execution_count": 30
        }
      ]
    },
    {
      "cell_type": "code",
      "metadata": {
        "colab": {
          "base_uri": "https://localhost:8080/",
          "height": 204
        },
        "id": "ysv62oVrVd9J",
        "outputId": "e170913c-ebca-46da-ccc7-be101223801a"
      },
      "source": [
        "year2017 =df['YEAR'] == '2017'\n",
        "df.loc[year2017, :].head()"
      ],
      "execution_count": 31,
      "outputs": [
        {
          "output_type": "execute_result",
          "data": {
            "text/html": [
              "<div>\n",
              "<style scoped>\n",
              "    .dataframe tbody tr th:only-of-type {\n",
              "        vertical-align: middle;\n",
              "    }\n",
              "\n",
              "    .dataframe tbody tr th {\n",
              "        vertical-align: top;\n",
              "    }\n",
              "\n",
              "    .dataframe thead th {\n",
              "        text-align: right;\n",
              "    }\n",
              "</style>\n",
              "<table border=\"1\" class=\"dataframe\">\n",
              "  <thead>\n",
              "    <tr style=\"text-align: right;\">\n",
              "      <th></th>\n",
              "      <th>LOCATION</th>\n",
              "      <th>SUBJECT</th>\n",
              "      <th>YEAR</th>\n",
              "      <th>Value</th>\n",
              "    </tr>\n",
              "  </thead>\n",
              "  <tbody>\n",
              "    <tr>\n",
              "      <th>1</th>\n",
              "      <td>AUS</td>\n",
              "      <td>TOT</td>\n",
              "      <td>2017</td>\n",
              "      <td>4710.617</td>\n",
              "    </tr>\n",
              "    <tr>\n",
              "      <th>5</th>\n",
              "      <td>AUT</td>\n",
              "      <td>TOT</td>\n",
              "      <td>2017</td>\n",
              "      <td>5360.423</td>\n",
              "    </tr>\n",
              "    <tr>\n",
              "      <th>9</th>\n",
              "      <td>BEL</td>\n",
              "      <td>TOT</td>\n",
              "      <td>2017</td>\n",
              "      <td>5013.987</td>\n",
              "    </tr>\n",
              "    <tr>\n",
              "      <th>13</th>\n",
              "      <td>CAN</td>\n",
              "      <td>TOT</td>\n",
              "      <td>2017</td>\n",
              "      <td>5155.347</td>\n",
              "    </tr>\n",
              "    <tr>\n",
              "      <th>17</th>\n",
              "      <td>CZE</td>\n",
              "      <td>TOT</td>\n",
              "      <td>2017</td>\n",
              "      <td>2891.435</td>\n",
              "    </tr>\n",
              "  </tbody>\n",
              "</table>\n",
              "</div>"
            ],
            "text/plain": [
              "   LOCATION SUBJECT  YEAR     Value\n",
              "1       AUS     TOT  2017  4710.617\n",
              "5       AUT     TOT  2017  5360.423\n",
              "9       BEL     TOT  2017  5013.987\n",
              "13      CAN     TOT  2017  5155.347\n",
              "17      CZE     TOT  2017  2891.435"
            ]
          },
          "metadata": {
            "tags": []
          },
          "execution_count": 31
        }
      ]
    },
    {
      "cell_type": "code",
      "metadata": {
        "colab": {
          "base_uri": "https://localhost:8080/",
          "height": 204
        },
        "id": "Kv9xCuk2VjiK",
        "outputId": "93f54ad5-201e-4cfe-a880-5708ab69ade3"
      },
      "source": [
        "year2018 =df['YEAR'] == '2018'\n",
        "df.loc[year2018, :].head()"
      ],
      "execution_count": 33,
      "outputs": [
        {
          "output_type": "execute_result",
          "data": {
            "text/html": [
              "<div>\n",
              "<style scoped>\n",
              "    .dataframe tbody tr th:only-of-type {\n",
              "        vertical-align: middle;\n",
              "    }\n",
              "\n",
              "    .dataframe tbody tr th {\n",
              "        vertical-align: top;\n",
              "    }\n",
              "\n",
              "    .dataframe thead th {\n",
              "        text-align: right;\n",
              "    }\n",
              "</style>\n",
              "<table border=\"1\" class=\"dataframe\">\n",
              "  <thead>\n",
              "    <tr style=\"text-align: right;\">\n",
              "      <th></th>\n",
              "      <th>LOCATION</th>\n",
              "      <th>SUBJECT</th>\n",
              "      <th>YEAR</th>\n",
              "      <th>Value</th>\n",
              "    </tr>\n",
              "  </thead>\n",
              "  <tbody>\n",
              "    <tr>\n",
              "      <th>2</th>\n",
              "      <td>AUS</td>\n",
              "      <td>TOT</td>\n",
              "      <td>2018</td>\n",
              "      <td>4964.533</td>\n",
              "    </tr>\n",
              "    <tr>\n",
              "      <th>6</th>\n",
              "      <td>AUT</td>\n",
              "      <td>TOT</td>\n",
              "      <td>2018</td>\n",
              "      <td>5538.347</td>\n",
              "    </tr>\n",
              "    <tr>\n",
              "      <th>10</th>\n",
              "      <td>BEL</td>\n",
              "      <td>TOT</td>\n",
              "      <td>2018</td>\n",
              "      <td>5103.200</td>\n",
              "    </tr>\n",
              "    <tr>\n",
              "      <th>14</th>\n",
              "      <td>CAN</td>\n",
              "      <td>TOT</td>\n",
              "      <td>2018</td>\n",
              "      <td>5287.406</td>\n",
              "    </tr>\n",
              "    <tr>\n",
              "      <th>18</th>\n",
              "      <td>CZE</td>\n",
              "      <td>TOT</td>\n",
              "      <td>2018</td>\n",
              "      <td>3170.668</td>\n",
              "    </tr>\n",
              "  </tbody>\n",
              "</table>\n",
              "</div>"
            ],
            "text/plain": [
              "   LOCATION SUBJECT  YEAR     Value\n",
              "2       AUS     TOT  2018  4964.533\n",
              "6       AUT     TOT  2018  5538.347\n",
              "10      BEL     TOT  2018  5103.200\n",
              "14      CAN     TOT  2018  5287.406\n",
              "18      CZE     TOT  2018  3170.668"
            ]
          },
          "metadata": {
            "tags": []
          },
          "execution_count": 33
        }
      ]
    },
    {
      "cell_type": "code",
      "metadata": {
        "colab": {
          "base_uri": "https://localhost:8080/",
          "height": 204
        },
        "id": "13Ea9YXgVp5i",
        "outputId": "5afba0d4-0cda-418b-c7a6-b4512596f285"
      },
      "source": [
        "year2019 =df['YEAR'] == '2019'\n",
        "df.loc[year2019, :].head()"
      ],
      "execution_count": 34,
      "outputs": [
        {
          "output_type": "execute_result",
          "data": {
            "text/html": [
              "<div>\n",
              "<style scoped>\n",
              "    .dataframe tbody tr th:only-of-type {\n",
              "        vertical-align: middle;\n",
              "    }\n",
              "\n",
              "    .dataframe tbody tr th {\n",
              "        vertical-align: top;\n",
              "    }\n",
              "\n",
              "    .dataframe thead th {\n",
              "        text-align: right;\n",
              "    }\n",
              "</style>\n",
              "<table border=\"1\" class=\"dataframe\">\n",
              "  <thead>\n",
              "    <tr style=\"text-align: right;\">\n",
              "      <th></th>\n",
              "      <th>LOCATION</th>\n",
              "      <th>SUBJECT</th>\n",
              "      <th>YEAR</th>\n",
              "      <th>Value</th>\n",
              "    </tr>\n",
              "  </thead>\n",
              "  <tbody>\n",
              "    <tr>\n",
              "      <th>3</th>\n",
              "      <td>AUS</td>\n",
              "      <td>TOT</td>\n",
              "      <td>2019</td>\n",
              "      <td>5187.419</td>\n",
              "    </tr>\n",
              "    <tr>\n",
              "      <th>7</th>\n",
              "      <td>AUT</td>\n",
              "      <td>TOT</td>\n",
              "      <td>2019</td>\n",
              "      <td>5851.055</td>\n",
              "    </tr>\n",
              "    <tr>\n",
              "      <th>11</th>\n",
              "      <td>BEL</td>\n",
              "      <td>TOT</td>\n",
              "      <td>2019</td>\n",
              "      <td>5427.957</td>\n",
              "    </tr>\n",
              "    <tr>\n",
              "      <th>15</th>\n",
              "      <td>CAN</td>\n",
              "      <td>TOT</td>\n",
              "      <td>2019</td>\n",
              "      <td>5418.383</td>\n",
              "    </tr>\n",
              "    <tr>\n",
              "      <th>19</th>\n",
              "      <td>CZE</td>\n",
              "      <td>TOT</td>\n",
              "      <td>2019</td>\n",
              "      <td>3427.910</td>\n",
              "    </tr>\n",
              "  </tbody>\n",
              "</table>\n",
              "</div>"
            ],
            "text/plain": [
              "   LOCATION SUBJECT  YEAR     Value\n",
              "3       AUS     TOT  2019  5187.419\n",
              "7       AUT     TOT  2019  5851.055\n",
              "11      BEL     TOT  2019  5427.957\n",
              "15      CAN     TOT  2019  5418.383\n",
              "19      CZE     TOT  2019  3427.910"
            ]
          },
          "metadata": {
            "tags": []
          },
          "execution_count": 34
        }
      ]
    },
    {
      "cell_type": "code",
      "metadata": {
        "id": "r0a3JW31W9M4"
      },
      "source": [
        "year2019Total = (df['YEAR'] == '2019') & (df['SUBJECT'] == 'TOT')\n",
        "year2019TotalFilter = df.loc[year2019Total,:]\n",
        "year2019Comp = (df['YEAR'] == '2019') & (df['SUBJECT'] == 'COMPULSORY')\n",
        "year2019CompFilter = df.loc[year2019Total,:]"
      ],
      "execution_count": 35,
      "outputs": []
    },
    {
      "cell_type": "code",
      "metadata": {
        "id": "aP0FTBrJ_nqy"
      },
      "source": [
        ""
      ],
      "execution_count": 16,
      "outputs": []
    },
    {
      "cell_type": "code",
      "metadata": {
        "colab": {
          "base_uri": "https://localhost:8080/"
        },
        "id": "j2chk2pvx2Nq",
        "outputId": "7a14f842-d81b-4f0f-e4e9-4b517681612b"
      },
      "source": [
        "TotCountryFilter2019 = df['YEAR'] == '2019'\n",
        "\n",
        "totCountry2019 = df.loc[TotCountryFilter2019, :].groupby(['LOCATION'])['Value'].mean().sort_values(ascending = False).head(20)\n",
        "totCountry2019\n"
      ],
      "execution_count": 17,
      "outputs": [
        {
          "output_type": "execute_result",
          "data": {
            "text/plain": [
              "Series([], Name: Value, dtype: float64)"
            ]
          },
          "metadata": {
            "tags": []
          },
          "execution_count": 17
        }
      ]
    },
    {
      "cell_type": "code",
      "metadata": {
        "id": "egcmjViRhN8U"
      },
      "source": [
        "year2018Total = (df['YEAR'] == '2018') & (df['SUBJECT'] == 'TOT')\n",
        "year2018TotalFilter = df.loc[year2018Total,:]\n",
        "year2018Comp = (df['YEAR'] == '2018') & (df['SUBJECT'] == 'COMPULSORY')\n",
        "year2018CompFilter = df.loc[year2018Total,:]"
      ],
      "execution_count": 36,
      "outputs": []
    },
    {
      "cell_type": "code",
      "metadata": {
        "id": "wU1c69T9j3FQ"
      },
      "source": [
        "year2017Total = (df['YEAR'] == '2017') & (df['SUBJECT'] == 'TOT')\n",
        "year2017TotalFilter = df.loc[year2017Total,:]\n",
        "year2017Comp = (df['YEAR'] == '2017') & (df['SUBJECT'] == 'COMPULSORY')\n",
        "year2017CompFilter = df.loc[year2017Total,:]"
      ],
      "execution_count": 37,
      "outputs": []
    },
    {
      "cell_type": "code",
      "metadata": {
        "id": "RCZ3nzM6j26K"
      },
      "source": [
        "year2016Total = (df['YEAR'] == '2016') & (df['SUBJECT'] == 'TOT')\n",
        "year2016TotalFilter = df.loc[year2016Total,:]\n",
        "year2016Comp = (df['YEAR'] == '2016') & (df['SUBJECT'] == 'COMPULSORY')\n",
        "year2016CompFilter = df.loc[year2016Total,:]"
      ],
      "execution_count": 38,
      "outputs": []
    },
    {
      "cell_type": "code",
      "metadata": {
        "colab": {
          "base_uri": "https://localhost:8080/",
          "height": 317
        },
        "id": "3Uz82kgXW1C-",
        "outputId": "03af5ef6-71e8-4552-ad33-8f06880661eb"
      },
      "source": [
        "plt.scatter(year2019TotalFilter['LOCATION'], year2019TotalFilter['Value'], c = 'r',);\n",
        "\n",
        "plt.title('2019 Total by Country', fontsize = 12);\n",
        "plt.legend(loc = 'lower right', fontsize = 10);\n",
        "plt.xlabel('Country', fontsize = 16);\n",
        "plt.ylabel('Total', fontsize = 16);\n",
        "#plt.xticks(rotation = 90)"
      ],
      "execution_count": 39,
      "outputs": [
        {
          "output_type": "stream",
          "text": [
            "No handles with labels found to put in legend.\n"
          ],
          "name": "stderr"
        },
        {
          "output_type": "display_data",
          "data": {
            "image/png": "[encoded data removed]",
            "text/plain": [
              "<Figure size 432x288 with 1 Axes>"
            ]
          },
          "metadata": {
            "tags": [],
            "needs_background": "light"
          }
        }
      ]
    },
    {
      "cell_type": "code",
      "metadata": {
        "colab": {
          "base_uri": "https://localhost:8080/",
          "height": 307
        },
        "id": "hQXWhRbtfzwI",
        "outputId": "87f473ae-490d-4d0c-8168-63300f876d58"
      },
      "source": [
        "plt.scatter(year2019TotalFilter['LOCATION'], year2019TotalFilter['Value'], c = 'r',label= '2019');\n",
        "plt.scatter(year2018TotalFilter['LOCATION'], year2018TotalFilter['Value'], c = 'blue',label= '2018');\n",
        "plt.scatter(year2017TotalFilter['LOCATION'], year2017TotalFilter['Value'], c = 'yellow',label= '2017');\n",
        "plt.scatter(year2016TotalFilter['LOCATION'], year2016TotalFilter['Value'], c = 'green',label= '2016');\n",
        "plt.title('Total by Country by Year', fontsize = 12);\n",
        "plt.legend(loc = 'upper right', fontsize = 10)\n",
        "plt.xticks(rotation = 90,fontsize = 6);\n",
        "plt.yticks(rotation = 45);\n",
        "\n",
        "plt.xlabel('Country', fontsize = 16)\n",
        "plt.ylabel('Total', fontsize = 16)\n",
        "plt.grid(axis = 'y')"
      ],
      "execution_count": 40,
      "outputs": [
        {
          "output_type": "display_data",
          "data": {
            "image/png": "[encoded data removed]",
            "text/plain": [
              "<Figure size 432x288 with 1 Axes>"
            ]
          },
          "metadata": {
            "tags": [],
            "needs_background": "light"
          }
        }
      ]
    },
    {
      "cell_type": "markdown",
      "metadata": {
        "id": "lGoATJckV8vd"
      },
      "source": [
        ""
      ]
    },
    {
      "cell_type": "code",
      "metadata": {
        "colab": {
          "base_uri": "https://localhost:8080/",
          "height": 307
        },
        "id": "kOKKogdBmDw1",
        "outputId": "61b84432-4226-40b3-87fc-3c966c8ad2b0"
      },
      "source": [
        "plt.scatter(year2019CompFilter['LOCATION'], year2019CompFilter['Value'], c = 'r',label= '2019');\n",
        "plt.scatter(year2018CompFilter['LOCATION'], year2018CompFilter['Value'], c = 'blue',label= '2018');\n",
        "plt.scatter(year2017CompFilter['LOCATION'], year2017CompFilter['Value'], c = 'yellow',label= '2017');\n",
        "plt.scatter(year2016CompFilter['LOCATION'], year2016CompFilter['Value'], c = 'green',label= '2016');\n",
        "plt.title('Total by Country by Year', fontsize = 12);\n",
        "plt.legend(loc = (1.02,0), fontsize = 10)\n",
        "plt.xticks(rotation = 90,fontsize = 6);\n",
        "plt.yticks(rotation = 45);\n",
        "\n",
        "plt.xlabel('Country', fontsize = 16)\n",
        "plt.ylabel('Total', fontsize = 16)\n",
        "plt.grid(axis = 'y')"
      ],
      "execution_count": 41,
      "outputs": [
        {
          "output_type": "display_data",
          "data": {
            "image/png": "[encoded data removed]",
            "text/plain": [
              "<Figure size 432x288 with 1 Axes>"
            ]
          },
          "metadata": {
            "tags": [],
            "needs_background": "light"
          }
        }
      ]
    },
    {
      "cell_type": "code",
      "metadata": {
        "id": "NxSHqv_rr151"
      },
      "source": [
        "plt.bar(year2019CompFilter['LOCATION'], year2019CompFilter['Value'], color='k',label = '2019');\n",
        "plt.bar(year2018CompFilter['LOCATION'], year2018CompFilter['Value'], color ='red',label = '2018');\n",
        "plt.bar(year2017CompFilter['LOCATION'], year2017CompFilter['Value'], color ='blue',label = '2017');\n",
        "plt.bar(year2016CompFilter['LOCATION'], year2016CompFilter['Value'], color ='green',label = '2016');\n",
        "plt.xticks(rotation = 90,fontsize = 6);\n",
        "plt.yticks(rotation = 45);\n",
        "plt.xlabel('Country', fontsize=8)\n",
        "plt.ylabel('Amount', fontsize= 8)\n",
        "plt.title('Health Care Spending by Country', fontsize = 10)\n",
        "plt.legend(loc=(1.02,0))\n",
        "plt.grid(axis = 'y')"
      ],
      "execution_count": null,
      "outputs": []
    },
    {
      "cell_type": "code",
      "metadata": {
        "colab": {
          "base_uri": "https://localhost:8080/",
          "height": 265
        },
        "id": "c5PD7z9UsoT_",
        "outputId": "73732fae-c37c-4618-81ac-26a2891f557f"
      },
      "source": [
        "plt.boxplot(year2019CompFilter['Value']);"
      ],
      "execution_count": 46,
      "outputs": [
        {
          "output_type": "display_data",
          "data": {
            "image/png": "[encoded data removed]",
            "text/plain": [
              "<Figure size 432x288 with 1 Axes>"
            ]
          },
          "metadata": {
            "tags": [],
            "needs_background": "light"
          }
        }
      ]
    },
    {
      "cell_type": "code",
      "metadata": {
        "colab": {
          "base_uri": "https://localhost:8080/",
          "height": 265
        },
        "id": "dEZuFxP5sooE",
        "outputId": "5de62a8c-448b-4c27-d05d-7e5adfc44140"
      },
      "source": [
        "plt.subplot(1,4,1)\n",
        "plt.boxplot(year2019CompFilter['Value']);\n",
        "\n",
        "plt.subplot(1,4,2)\n",
        "plt.boxplot(year2018CompFilter['Value']);\n",
        "\n",
        "plt.subplot(1,4,3)\n",
        "plt.boxplot(year2017CompFilter['Value']);\n",
        "\n",
        "plt.subplot(1,4,4)\n",
        "plt.boxplot(year2016CompFilter['Value']);"
      ],
      "execution_count": 47,
      "outputs": [
        {
          "output_type": "display_data",
          "data": {
            "image/png": "[encoded data removed]",
            "text/plain": [
              "<Figure size 432x288 with 4 Axes>"
            ]
          },
          "metadata": {
            "tags": [],
            "needs_background": "light"
          }
        }
      ]
    },
    {
      "cell_type": "markdown",
      "metadata": {
        "id": "MMXeRFC3mKwW"
      },
      "source": [
        "# Spending By Year in total"
      ]
    },
    {
      "cell_type": "code",
      "metadata": {
        "colab": {
          "base_uri": "https://localhost:8080/",
          "height": 173
        },
        "id": "VRZHrz0TmLff",
        "outputId": "ec6ec861-99c5-41a4-c8fc-c54b1a34c3fe"
      },
      "source": [
        "\n",
        "\n",
        "TotalYearFilter = pd.DataFrame(df.groupby(['YEAR'])['Value'].sum().sort_values(ascending = True).head()).reset_index()\n",
        "TotalYearFilter"
      ],
      "execution_count": 48,
      "outputs": [
        {
          "output_type": "execute_result",
          "data": {
            "text/html": [
              "<div>\n",
              "<style scoped>\n",
              "    .dataframe tbody tr th:only-of-type {\n",
              "        vertical-align: middle;\n",
              "    }\n",
              "\n",
              "    .dataframe tbody tr th {\n",
              "        vertical-align: top;\n",
              "    }\n",
              "\n",
              "    .dataframe thead th {\n",
              "        text-align: right;\n",
              "    }\n",
              "</style>\n",
              "<table border=\"1\" class=\"dataframe\">\n",
              "  <thead>\n",
              "    <tr style=\"text-align: right;\">\n",
              "      <th></th>\n",
              "      <th>YEAR</th>\n",
              "      <th>Value</th>\n",
              "    </tr>\n",
              "  </thead>\n",
              "  <tbody>\n",
              "    <tr>\n",
              "      <th>0</th>\n",
              "      <td>2016</td>\n",
              "      <td>304475.888</td>\n",
              "    </tr>\n",
              "    <tr>\n",
              "      <th>1</th>\n",
              "      <td>2017</td>\n",
              "      <td>318330.332</td>\n",
              "    </tr>\n",
              "    <tr>\n",
              "      <th>2</th>\n",
              "      <td>2018</td>\n",
              "      <td>328606.614</td>\n",
              "    </tr>\n",
              "    <tr>\n",
              "      <th>3</th>\n",
              "      <td>2019</td>\n",
              "      <td>342477.544</td>\n",
              "    </tr>\n",
              "  </tbody>\n",
              "</table>\n",
              "</div>"
            ],
            "text/plain": [
              "   YEAR       Value\n",
              "0  2016  304475.888\n",
              "1  2017  318330.332\n",
              "2  2018  328606.614\n",
              "3  2019  342477.544"
            ]
          },
          "metadata": {
            "tags": []
          },
          "execution_count": 48
        }
      ]
    },
    {
      "cell_type": "code",
      "metadata": {
        "colab": {
          "base_uri": "https://localhost:8080/",
          "height": 324
        },
        "id": "uQA_jd2RncMZ",
        "outputId": "d2d4d5d0-801e-4ad6-ec8f-c77946dbc8b8"
      },
      "source": [
        "#plt.bar(TotalYearFilter['YEAR'], TotalYearFilter['Value'], color='blue',);\n",
        "plt.plot(TotalYearFilter['YEAR'], TotalYearFilter['Value'], color='blue',);\n",
        "plt.xticks(rotation = 45,fontsize = 10);\n",
        "plt.yticks(rotation = 45);\n",
        "plt.xlabel('Year', fontsize=8)\n",
        "plt.ylabel('Annual Spending', fontsize= 8)\n",
        "plt.title('Sales by Year ', fontsize = 10)\n",
        "#plt.legend(loc=(1.02,0));\n",
        "plt.grid(axis = 'y');\n",
        "\n",
        "plt.ylim(2016,2019)\n",
        "plt.ylim(300000,350000)"
      ],
      "execution_count": 55,
      "outputs": [
        {
          "output_type": "execute_result",
          "data": {
            "text/plain": [
              "(300000.0, 350000.0)"
            ]
          },
          "metadata": {
            "tags": []
          },
          "execution_count": 55
        },
        {
          "output_type": "display_data",
          "data": {
            "image/png": "[encoded data removed]",
            "text/plain": [
              "<Figure size 432x288 with 1 Axes>"
            ]
          },
          "metadata": {
            "tags": [],
            "needs_background": "light"
          }
        }
      ]
    },
    {
      "cell_type": "code",
      "metadata": {
        "colab": {
          "base_uri": "https://localhost:8080/",
          "height": 324
        },
        "id": "pXN9ve1C2nGg",
        "outputId": "6da1f306-8e21-473b-9546-a16aec236925"
      },
      "source": [
        "plt.bar(TotalYearFilter['YEAR'], TotalYearFilter['Value'], color='blue',);\n",
        "#plt.plot(TotalYearFilter['YEAR'], TotalYearFilter['Value'], color='blue',);\n",
        "plt.xticks(rotation = 45,fontsize = 10);\n",
        "plt.yticks(rotation = 45);\n",
        "plt.xlabel('Year', fontsize=8)\n",
        "plt.ylabel('Annual Spending', fontsize= 8)\n",
        "plt.title('Sales by Year ', fontsize = 10)\n",
        "#plt.legend(loc=(1.02,0));\n",
        "plt.grid(axis = 'y');\n",
        "\n",
        "plt.ylim(2016,2019)\n",
        "plt.ylim(250000,350000)"
      ],
      "execution_count": 53,
      "outputs": [
        {
          "output_type": "execute_result",
          "data": {
            "text/plain": [
              "(250000.0, 350000.0)"
            ]
          },
          "metadata": {
            "tags": []
          },
          "execution_count": 53
        },
        {
          "output_type": "display_data",
          "data": {
            "image/png": "[encoded data removed]",
            "text/plain": [
              "<Figure size 432x288 with 1 Axes>"
            ]
          },
          "metadata": {
            "tags": [],
            "needs_background": "light"
          }
        }
      ]
    }
  ]
}